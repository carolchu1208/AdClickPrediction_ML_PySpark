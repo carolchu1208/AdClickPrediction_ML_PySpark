{
 "cells": [
  {
   "cell_type": "markdown",
   "metadata": {
    "application/vnd.databricks.v1+cell": {
     "cellMetadata": {
      "byteLimit": 2048000,
      "rowLimit": 10000
     },
     "inputWidgets": {},
     "nuid": "409f1301-e65a-46ac-afea-76f4a85199db",
     "showTitle": false,
     "tableResultSettingsMap": {},
     "title": ""
    }
   },
   "source": [
    "# Environment Setup"
   ]
  },
  {
   "cell_type": "code",
   "execution_count": 0,
   "metadata": {
    "application/vnd.databricks.v1+cell": {
     "cellMetadata": {
      "byteLimit": 2048000,
      "rowLimit": 10000
     },
     "inputWidgets": {},
     "nuid": "49a394b4-2803-4ee6-b61d-42fa79bc02c6",
     "showTitle": false,
     "tableResultSettingsMap": {},
     "title": ""
    }
   },
   "outputs": [],
   "source": [
    "from pyspark.sql import SparkSession\n",
    "# Start a new Spark session\n",
    "spark = SparkSession.builder.appName(\"YourApp\").getOrCreate()"
   ]
  },
  {
   "cell_type": "code",
   "execution_count": 0,
   "metadata": {
    "application/vnd.databricks.v1+cell": {
     "cellMetadata": {
      "byteLimit": 2048000,
      "rowLimit": 10000
     },
     "inputWidgets": {},
     "nuid": "08e0eb2a-c4e2-4142-8f86-4def49675ec8",
     "showTitle": false,
     "tableResultSettingsMap": {},
     "title": ""
    }
   },
   "outputs": [],
   "source": [
    "import pyspark\n",
    "from pyspark import SparkContext \n",
    "from pyspark.sql import SparkSession, Window\n",
    "from pyspark.sql.functions import col, sum, count, when, avg, udf, round"
   ]
  },
  {
   "cell_type": "code",
   "execution_count": 0,
   "metadata": {
    "application/vnd.databricks.v1+cell": {
     "cellMetadata": {
      "byteLimit": 2048000,
      "rowLimit": 10000
     },
     "inputWidgets": {},
     "nuid": "c2537028-a8da-4ec7-b7bd-34a4dbd58360",
     "showTitle": false,
     "tableResultSettingsMap": {},
     "title": ""
    }
   },
   "outputs": [],
   "source": [
    "from pyspark.ml import Pipeline\n",
    "from pyspark.ml.feature import VectorAssembler\n",
    "from pyspark.ml import Pipeline"
   ]
  },
  {
   "cell_type": "code",
   "execution_count": 0,
   "metadata": {
    "application/vnd.databricks.v1+cell": {
     "cellMetadata": {
      "byteLimit": 2048000,
      "rowLimit": 10000
     },
     "inputWidgets": {},
     "nuid": "065c8eea-2cc8-4ff0-b7bf-cec286833511",
     "showTitle": false,
     "tableResultSettingsMap": {},
     "title": ""
    }
   },
   "outputs": [],
   "source": [
    "from pyspark.sql.functions import col, when\n",
    "from pyspark.ml.feature import VectorAssembler, StringIndexer, OneHotEncoder\n",
    "from pyspark.ml.classification import DecisionTreeClassifier, GBTClassifier, RandomForestClassifier\n",
    "from pyspark.ml.evaluation import BinaryClassificationEvaluator\n",
    "from pyspark.ml.evaluation import MulticlassClassificationEvaluator"
   ]
  },
  {
   "cell_type": "code",
   "execution_count": 0,
   "metadata": {
    "application/vnd.databricks.v1+cell": {
     "cellMetadata": {
      "byteLimit": 2048000,
      "rowLimit": 10000
     },
     "inputWidgets": {},
     "nuid": "abe11bd0-1695-42e9-a0b8-c4ed2da544a7",
     "showTitle": false,
     "tableResultSettingsMap": {},
     "title": ""
    }
   },
   "outputs": [
    {
     "output_type": "stream",
     "name": "stdout",
     "output_type": "stream",
     "text": [
      "+----+---------+----+----------+-----------+-----------+----------------+-----------+-----+\n|  id|full_name| age|    gender|device_type|ad_position|browsing_history|time_of_day|click|\n+----+---------+----+----------+-----------+-----------+----------------+-----------+-----+\n| 670|  User670|22.0|      null|    Desktop|        Top|        Shopping|  Afternoon|    1|\n|3044| User3044|null|      Male|    Desktop|        Top|            null|       null|    1|\n|5912| User5912|41.0|Non-Binary|       null|       Side|       Education|      Night|    1|\n|5418| User5418|34.0|      Male|       null|       null|   Entertainment|    Evening|    1|\n|9452| User9452|39.0|Non-Binary|       null|       null|    Social Media|    Morning|    0|\n|5942| User5942|null|Non-Binary|       null|     Bottom|    Social Media|    Evening|    1|\n|7808| User7808|26.0|    Female|    Desktop|        Top|            null|       null|    1|\n|5065| User5065|40.0|      Male|     Mobile|       Side|            null|    Evening|    0|\n|7993| User7993|null|Non-Binary|     Mobile|     Bottom|    Social Media|       null|    1|\n|4509| User4509|null|      null|       null|     Bottom|       Education|  Afternoon|    1|\n|2595| User2595|null|      null|       null|     Bottom|            null|    Morning|    1|\n|7466| User7466|47.0|      null|     Mobile|     Bottom|            null|  Afternoon|    1|\n|8171| User8171|null|Non-Binary|     Mobile|       Side|       Education|  Afternoon|    0|\n|2023| User2023|19.0|      null|    Desktop|       null|            null|       null|    1|\n| 973|  User973|null|      null|     Mobile|       null|            null|    Morning|    1|\n|7529| User7529|null|      null|       null|        Top|   Entertainment|  Afternoon|    0|\n|8127| User8127|null|      Male|     Tablet|     Bottom|            null|       null|    1|\n| 188|  User188|56.0|    Female|     Tablet|     Bottom|            News|    Morning|    1|\n|2124| User2124|null|      Male|    Desktop|        Top|            null|    Evening|    1|\n|7335| User7335|24.0|      null|     Tablet|       Side|   Entertainment|      Night|    0|\n+----+---------+----+----------+-----------+-----------+----------------+-----------+-----+\nonly showing top 20 rows\n\n"
     ]
    }
   ],
   "source": [
    "raw = spark.read.format(\"csv\").option(\"header\", \"true\").load(\"dbfs:/FileStore/shared_uploads/mchu@clarku.edu/ad_click_dataset.csv\")\n",
    "\n",
    "# Check the DataFrame\n",
    "raw.show()"
   ]
  },
  {
   "cell_type": "code",
   "execution_count": 0,
   "metadata": {
    "application/vnd.databricks.v1+cell": {
     "cellMetadata": {
      "byteLimit": 2048000,
      "rowLimit": 10000
     },
     "inputWidgets": {},
     "nuid": "2d3b815f-21de-43b1-a91b-afe86ad4fbd6",
     "showTitle": false,
     "tableResultSettingsMap": {},
     "title": ""
    }
   },
   "outputs": [],
   "source": [
    "# Cast 'age' to integer and 'click' to integer (binary)\n",
    "raw = raw.withColumn(\"age\", col(\"age\").cast(\"int\"))\n",
    "raw = raw.withColumn(\"click\", col(\"click\").cast(\"int\"))\n",
    "\n"
   ]
  },
  {
   "cell_type": "code",
   "execution_count": 0,
   "metadata": {
    "application/vnd.databricks.v1+cell": {
     "cellMetadata": {
      "byteLimit": 2048000,
      "rowLimit": 10000
     },
     "inputWidgets": {},
     "nuid": "2868dad0-63a2-49ef-8a54-4569c24ad275",
     "showTitle": false,
     "tableResultSettingsMap": {},
     "title": ""
    }
   },
   "outputs": [],
   "source": [
    "#encode\n",
    "#Encode 'gender'\n",
    "raw = raw.withColumn(\"gender\",\n",
    "    when(col(\"gender\") == \"Male\", 1)\n",
    "    .when(col(\"gender\") == \"Female\", 2)\n",
    "    .when(col(\"gender\") == \"Non-Binary\", 3)\n",
    ")\n",
    "\n",
    "# Encode 'device_type'\n",
    "raw = raw.withColumn(\"device_type\",\n",
    "    when(col(\"device_type\") == \"Mobile\", 1)\n",
    "    .when(col(\"device_type\") == \"Desktop\", 2)\n",
    "    .when(col(\"device_type\") == \"Tablet\", 3)\n",
    ")\n",
    "\n",
    "# Encode 'ad_position'\n",
    "raw = raw.withColumn(\"ad_position\",\n",
    "when(col(\"ad_position\") == \"Top\", 1)\n",
    "    .when(col(\"ad_position\") == \"Side\", 2)\n",
    "    .when(col(\"ad_position\") == \"Bottom\", 3)\n",
    ")\n",
    "\n",
    "# Encode 'browsing_history'\n",
    "raw = raw.withColumn(\"browsing_history\",\n",
    "    when(col(\"browsing_history\") == \"Shopping\", 1)\n",
    "    .when(col(\"browsing_history\") == \"News\", 2)\n",
    "    .when(col(\"browsing_history\") == \"Entertainment\", 3)\n",
    "    .when(col(\"browsing_history\") == \"Education\", 4)\n",
    "    .when(col(\"browsing_history\") == \"Social Media\", 5)\n",
    ")\n",
    "\n",
    "# Encode 'time_of_day'\n",
    "raw = raw.withColumn(\"time_of_day\",\n",
    "    when(col(\"time_of_day\") == \"Morning\", 1)\n",
    "    .when(col(\"time_of_day\") == \"Afternoon\", 2)\n",
    "    .when(col(\"time_of_day\") == \"Evening\", 3)\n",
    "    .when(col(\"time_of_day\") == \"Night\", 4)\n",
    ")"
   ]
  },
  {
   "cell_type": "code",
   "execution_count": 0,
   "metadata": {
    "application/vnd.databricks.v1+cell": {
     "cellMetadata": {
      "byteLimit": 2048000,
      "rowLimit": 10000
     },
     "inputWidgets": {},
     "nuid": "68db3912-f7e3-4e80-a8ad-e0b83db9333a",
     "showTitle": false,
     "tableResultSettingsMap": {},
     "title": ""
    }
   },
   "outputs": [
    {
     "output_type": "stream",
     "name": "stdout",
     "output_type": "stream",
     "text": [
      "root\n |-- id: string (nullable = true)\n |-- full_name: string (nullable = true)\n |-- age: integer (nullable = true)\n |-- gender: integer (nullable = true)\n |-- device_type: integer (nullable = true)\n |-- ad_position: integer (nullable = true)\n |-- browsing_history: integer (nullable = true)\n |-- time_of_day: integer (nullable = true)\n |-- click: integer (nullable = true)\n\n"
     ]
    }
   ],
   "source": [
    "raw.printSchema()"
   ]
  },
  {
   "cell_type": "markdown",
   "metadata": {
    "application/vnd.databricks.v1+cell": {
     "cellMetadata": {
      "byteLimit": 2048000,
      "rowLimit": 10000
     },
     "inputWidgets": {},
     "nuid": "46cd1326-7f31-46fd-9ddb-bd0f037a30f5",
     "showTitle": false,
     "tableResultSettingsMap": {},
     "title": ""
    }
   },
   "source": [
    "# EDA"
   ]
  },
  {
   "cell_type": "code",
   "execution_count": 0,
   "metadata": {
    "application/vnd.databricks.v1+cell": {
     "cellMetadata": {
      "byteLimit": 2048000,
      "rowLimit": 10000
     },
     "inputWidgets": {},
     "nuid": "6c967ae4-3149-4f02-9dcc-d32bb30b20f5",
     "showTitle": false,
     "tableResultSettingsMap": {},
     "title": ""
    }
   },
   "outputs": [
    {
     "output_type": "stream",
     "name": "stdout",
     "output_type": "stream",
     "text": [
      "total row number: 10000\nnull_count:\n+---+---------+----+------+-----------+-----------+----------------+-----------+-----+\n| id|full_name| age|gender|device_type|ad_position|browsing_history|time_of_day|click|\n+---+---------+----+------+-----------+-----------+----------------+-----------+-----+\n|  0|        0|4766|  4693|       2000|       2000|            4782|       2000|    0|\n+---+---------+----+------+-----------+-----------+----------------+-----------+-----+\n\nnull_percentage:\n+---+---------+------------------+------+-----------+-----------+----------------+-----------+-----+\n| id|full_name|               age|gender|device_type|ad_position|browsing_history|time_of_day|click|\n+---+---------+------------------+------+-----------+-----------+----------------+-----------+-----+\n|0.0|      0.0|47.660000000000004| 46.93|       20.0|       20.0|           47.82|       20.0|  0.0|\n+---+---------+------------------+------+-----------+-----------+----------------+-----------+-----+\n\n"
     ]
    }
   ],
   "source": [
    "# Total number of rows in the DataFrame\n",
    "total_rows = raw.count()\n",
    "print(\"total row number:\", total_rows)\n",
    "\n",
    "\n",
    "# Calculate missing value\n",
    "null_counts = raw.select([sum(col(c).isNull().cast(\"int\")).alias(c) for c in raw.columns])\n",
    "# Show the result\n",
    "print(\"null_count:\")\n",
    "null_counts.show()\n",
    "\n",
    "# Calculate the percentage of null values in each column\n",
    "null_percentage = raw.select([(count(when(col(c).isNull(), c)) / total_rows * 100).alias(c) for c in raw.columns])\n",
    "\n",
    "# Show the result\n",
    "print(\"null_percentage:\")\n",
    "null_percentage.show()"
   ]
  },
  {
   "cell_type": "markdown",
   "metadata": {
    "application/vnd.databricks.v1+cell": {
     "cellMetadata": {
      "byteLimit": 2048000,
      "rowLimit": 10000
     },
     "inputWidgets": {},
     "nuid": "ee2201d3-fec3-4599-9400-07ed5af92ab7",
     "showTitle": false,
     "tableResultSettingsMap": {},
     "title": ""
    }
   },
   "source": [
    "Missing Data Solution Explain:\n",
    "I’ve decided to remove the 20% of rows where the ad_position value is missing. This is crucial because ad_position directly influences ad pricing, and having accurate data for this variable is key to my analysis.\n",
    "My main objective is to identify the most cost-effective ad strategy that generates the highest number of clicks for a general consumer market. Therefore, maintaining reliable data on ad positioning is essential.\n",
    "For the other missing values:\n",
    "Numeric columns: I will impute missing values with the average of each column to preserve as much data as possible.\n",
    "Binary or categorical columns: I will use random imputation based on the original data distribution to ensure the overall balance of categories is maintained.\n",
    "This approach allows me to focus on the most important factors for the analysis while handling missing data in a way that minimizes bias and preserves data quality."
   ]
  },
  {
   "cell_type": "code",
   "execution_count": 0,
   "metadata": {
    "application/vnd.databricks.v1+cell": {
     "cellMetadata": {
      "byteLimit": 2048000,
      "rowLimit": 10000
     },
     "inputWidgets": {},
     "nuid": "0c624d45-8fdb-4768-9122-630a1863b2c9",
     "showTitle": false,
     "tableResultSettingsMap": {},
     "title": ""
    }
   },
   "outputs": [],
   "source": [
    "# clean data\n",
    "cleaned_position = raw.filter(col(\"ad_position\").isNotNull()) #cleaned null based on position\n",
    "cleaned_data = cleaned_position.drop(\"id\",\"full_name\")"
   ]
  },
  {
   "cell_type": "code",
   "execution_count": 0,
   "metadata": {
    "application/vnd.databricks.v1+cell": {
     "cellMetadata": {
      "byteLimit": 2048000,
      "rowLimit": 10000
     },
     "inputWidgets": {},
     "nuid": "31b4600a-021d-49a0-ba34-4efc405d63f8",
     "showTitle": false,
     "tableResultSettingsMap": {},
     "title": ""
    }
   },
   "outputs": [
    {
     "output_type": "stream",
     "name": "stdout",
     "output_type": "stream",
     "text": [
      "Out[11]: DataFrame[age: int, gender: int, device_type: int, ad_position: int, browsing_history: int, time_of_day: int, click: int]"
     ]
    }
   ],
   "source": [
    "cleaned_data.drop(\"id\",\"full_name\")"
   ]
  },
  {
   "cell_type": "code",
   "execution_count": 0,
   "metadata": {
    "application/vnd.databricks.v1+cell": {
     "cellMetadata": {
      "byteLimit": 2048000,
      "rowLimit": 10000
     },
     "inputWidgets": {},
     "nuid": "30fa5b72-0fb2-4f87-bee9-370ac617c68c",
     "showTitle": false,
     "tableResultSettingsMap": {},
     "title": ""
    }
   },
   "outputs": [],
   "source": [
    "# seperate data into training and testing, only impute training\n",
    "train_data, test_data = cleaned_data.randomSplit([0.8, 0.2],seed=123)"
   ]
  },
  {
   "cell_type": "code",
   "execution_count": 0,
   "metadata": {
    "application/vnd.databricks.v1+cell": {
     "cellMetadata": {
      "byteLimit": 2048000,
      "rowLimit": 10000
     },
     "inputWidgets": {},
     "nuid": "158722e8-8007-48f7-b304-61bfd4e0702a",
     "showTitle": false,
     "tableResultSettingsMap": {},
     "title": ""
    }
   },
   "outputs": [],
   "source": [
    "#handle imputation for other missing values in train data\n",
    "#impute age column\n",
    "avg_age = train_data.select(avg(col(\"age\"))).collect()[0][0] #calculate avg. age\n",
    "train_data = train_data.fillna({\"age\": avg_age}) #filled age null value with avg_age"
   ]
  },
  {
   "cell_type": "code",
   "execution_count": 0,
   "metadata": {
    "application/vnd.databricks.v1+cell": {
     "cellMetadata": {
      "byteLimit": 2048000,
      "rowLimit": 10000
     },
     "inputWidgets": {},
     "nuid": "923b6296-6a0f-4c04-8e3f-1a0a2b23af51",
     "showTitle": false,
     "tableResultSettingsMap": {},
     "title": ""
    }
   },
   "outputs": [],
   "source": [
    "#impute continuous columns that still have null value: gender, device type, browsing history, timeofday\n",
    "# Step 1: Calculate distributions of non-null values for each categorical column\n",
    "def calculate_distribution(df, col_name):\n",
    "    dist_df = df.filter(col(col_name).isNotNull()) \\\n",
    "                .groupBy(col_name) \\\n",
    "                .count() \\\n",
    "                .withColumn('probability', col('count') / sum('count').over(Window.partitionBy()))\n",
    "    return dist_df\n",
    "\n",
    "# Step 2: Random assignment based on distribution\n",
    "import random\n",
    "\n",
    "def random_assign_missing(df, col_name, dist_df):\n",
    "    mapping = dist_df.select(col_name, \"probability\").collect()\n",
    "    value_probabilities = [(row[col_name], row['probability']) for row in mapping]\n",
    "\n",
    "    # Define the random choice function to pick values based on the distribution\n",
    "    def random_choice():\n",
    "        return random.choices([val[0] for val in value_probabilities], [val[1] for val in value_probabilities])[0]\n",
    "    \n",
    "    # Register the random_choice function as a UDF\n",
    "    random_choice_udf = udf(random_choice)\n",
    "\n",
    "    # Apply random assignment for missing values in the column\n",
    "    df = df.withColumn(\n",
    "        col_name,\n",
    "        when(col(col_name).isNull(), random_choice_udf()).otherwise(col(col_name))\n",
    "    )\n",
    "    \n",
    "    return df\n",
    "\n",
    "# Calculate distributions for each categorical column\n",
    "gender_dist = calculate_distribution(train_data, \"gender\")\n",
    "device_type_dist = calculate_distribution(train_data, \"device_type\")\n",
    "browsing_history_dist = calculate_distribution(train_data, \"browsing_history\")\n",
    "time_of_day_dist = calculate_distribution(train_data, \"time_of_day\")\n",
    "\n",
    "# Fill missing values based on distributions\n",
    "train_data = random_assign_missing(train_data, \"gender\", gender_dist)\n",
    "train_data = random_assign_missing(train_data, \"device_type\", device_type_dist)\n",
    "train_data = random_assign_missing(train_data, \"browsing_history\", browsing_history_dist)\n",
    "train_data = random_assign_missing(train_data, \"time_of_day\", time_of_day_dist)"
   ]
  },
  {
   "cell_type": "code",
   "execution_count": 0,
   "metadata": {
    "application/vnd.databricks.v1+cell": {
     "cellMetadata": {
      "byteLimit": 2048000,
      "rowLimit": 10000
     },
     "inputWidgets": {},
     "nuid": "dd4621e5-ffb6-442f-87e9-a46a4087068a",
     "showTitle": false,
     "tableResultSettingsMap": {},
     "title": ""
    }
   },
   "outputs": [],
   "source": [
    "categorical_columns = [\"gender\", \"device_type\", \"browsing_history\", \"time_of_day\"]\n",
    "for column in categorical_columns:\n",
    "    train_data = train_data.withColumn(column, col(column).cast(\"int\"))"
   ]
  },
  {
   "cell_type": "code",
   "execution_count": 0,
   "metadata": {
    "application/vnd.databricks.v1+cell": {
     "cellMetadata": {
      "byteLimit": 2048000,
      "rowLimit": 10000
     },
     "inputWidgets": {},
     "nuid": "aab51332-45fb-45f9-af3d-25ad8d415940",
     "showTitle": false,
     "tableResultSettingsMap": {},
     "title": ""
    }
   },
   "outputs": [],
   "source": [
    "#round age to whole number because when we input age, we input mostly whole number\n",
    "train_data = train_data.withColumn(\"age\", round(col(\"age\")))\n",
    "test_data = test_data.withColumn(\"age\", round(col(\"age\")))"
   ]
  },
  {
   "cell_type": "code",
   "execution_count": 0,
   "metadata": {
    "application/vnd.databricks.v1+cell": {
     "cellMetadata": {
      "byteLimit": 2048000,
      "rowLimit": 10000
     },
     "inputWidgets": {},
     "nuid": "96df200d-8592-40c7-a24f-8c7e1af5de5c",
     "showTitle": false,
     "tableResultSettingsMap": {},
     "title": ""
    }
   },
   "outputs": [
    {
     "output_type": "stream",
     "name": "stdout",
     "output_type": "stream",
     "text": [
      "+---+------+-----------+-----------+----------------+-----------+-----+\n|age|gender|device_type|ad_position|browsing_history|time_of_day|click|\n+---+------+-----------+-----------+----------------+-----------+-----+\n| 40|     2|          2|          1|               3|          4|    0|\n| 40|     1|          1|          1|               3|          4|    0|\n| 40|     1|          3|          1|               1|          1|    0|\n| 40|     1|          1|          1|               3|          2|    0|\n| 40|     3|          3|          1|               2|          1|    1|\n| 40|     1|          3|          1|               2|          3|    1|\n| 40|     1|          1|          1|               3|          1|    1|\n| 40|     3|          1|          1|               5|          1|    1|\n| 40|     2|          1|          1|               1|          1|    1|\n| 40|     3|          3|          1|               4|          3|    1|\n| 40|     3|          3|          1|               3|          1|    1|\n| 40|     1|          2|          1|               4|          1|    1|\n| 40|     1|          2|          1|               3|          1|    1|\n| 40|     3|          1|          1|               4|          1|    1|\n| 40|     3|          3|          1|               2|          2|    0|\n| 40|     3|          3|          1|               2|          2|    0|\n| 40|     3|          3|          1|               3|          2|    0|\n| 40|     3|          3|          1|               3|          2|    0|\n| 40|     1|          2|          1|               1|          2|    1|\n| 40|     1|          3|          1|               2|          2|    1|\n+---+------+-----------+-----------+----------------+-----------+-----+\nonly showing top 20 rows\n\n"
     ]
    }
   ],
   "source": [
    "#double check\n",
    "train_data.show()"
   ]
  },
  {
   "cell_type": "code",
   "execution_count": 0,
   "metadata": {
    "application/vnd.databricks.v1+cell": {
     "cellMetadata": {
      "byteLimit": 2048000,
      "rowLimit": 10000
     },
     "inputWidgets": {},
     "nuid": "3810fdf4-edde-4e65-8138-fffa716c5b5c",
     "showTitle": false,
     "tableResultSettingsMap": {},
     "title": ""
    }
   },
   "outputs": [
    {
     "output_type": "stream",
     "name": "stdout",
     "output_type": "stream",
     "text": [
      "+-------+-----------------+------------------+------------------+------------------+------------------+------------------+------------------+\n|summary|              age|            gender|       device_type|       ad_position|  browsing_history|       time_of_day|             click|\n+-------+-----------------+------------------+------------------+------------------+------------------+------------------+------------------+\n|  count|             6366|              6366|              6366|              6366|              6366|              6366|              6366|\n|   mean|40.08623939679548|1.9844486333647502|1.9828777882500785|2.0364436066603835| 2.986176562990889|2.4748664781652527|0.6542569902607603|\n| stddev|9.381314303605103|0.8087755541847399| 0.807382830619883|0.8220780179502329|1.3971570021074278|1.1241460850368883|0.4756472640579388|\n|    min|               18|                 1|                 1|                 1|                 1|                 1|                 0|\n|    max|               64|                 3|                 3|                 3|                 5|                 4|                 1|\n+-------+-----------------+------------------+------------------+------------------+------------------+------------------+------------------+\n\n"
     ]
    }
   ],
   "source": [
    "#descriptive anlaysis\n",
    "train_data.describe().show()"
   ]
  },
  {
   "cell_type": "code",
   "execution_count": 0,
   "metadata": {
    "application/vnd.databricks.v1+cell": {
     "cellMetadata": {
      "byteLimit": 2048000,
      "rowLimit": 10000
     },
     "inputWidgets": {},
     "nuid": "325b5458-4cc5-42ce-97a7-05b636d1f12a",
     "showTitle": false,
     "tableResultSettingsMap": {},
     "title": ""
    }
   },
   "outputs": [
    {
     "output_type": "stream",
     "name": "stdout",
     "output_type": "stream",
     "text": [
      "root\n |-- age: integer (nullable = true)\n |-- gender: integer (nullable = true)\n |-- device_type: integer (nullable = true)\n |-- ad_position: integer (nullable = true)\n |-- browsing_history: integer (nullable = true)\n |-- time_of_day: integer (nullable = true)\n |-- click: integer (nullable = true)\n\n"
     ]
    }
   ],
   "source": [
    "# check data type again\n",
    "train_data.printSchema()\n"
   ]
  },
  {
   "cell_type": "code",
   "execution_count": 0,
   "metadata": {
    "application/vnd.databricks.v1+cell": {
     "cellMetadata": {
      "byteLimit": 2048000,
      "rowLimit": 10000
     },
     "inputWidgets": {},
     "nuid": "e4689f37-2115-4bba-af05-20201218e814",
     "showTitle": false,
     "tableResultSettingsMap": {},
     "title": ""
    }
   },
   "outputs": [
    {
     "output_type": "stream",
     "name": "stdout",
     "output_type": "stream",
     "text": [
      "{'age': 40, 'gender': 2, 'device_type': 2, 'ad_position': 3, 'browsing_history': 3, 'time_of_day': 1, 'click': 1}\n"
     ]
    }
   ],
   "source": [
    "from pyspark.sql import functions as F\n",
    "\n",
    "#mode value\n",
    "def calculate_mode(df, col_name):\n",
    "    mode_df = df.groupBy(col_name).count().orderBy(F.desc(\"count\"))\n",
    "    mode_value = mode_df.first()  # Get the first row, which is the mode\n",
    "    return mode_value[col_name]\n",
    "# List of columns for which to calculate the mode\n",
    "columns_to_calculate = [\"age\", \"gender\", \"device_type\", \"ad_position\", \"browsing_history\", \"time_of_day\", \"click\"]\n",
    "\n",
    "# Dictionary to store the mode results\n",
    "mode_results = {}\n",
    "\n",
    "for col in columns_to_calculate:\n",
    "    mode_results[col] = calculate_mode(train_data, col)\n",
    "\n",
    "# Display the results\n",
    "print(mode_results)"
   ]
  },
  {
   "cell_type": "markdown",
   "metadata": {
    "application/vnd.databricks.v1+cell": {
     "cellMetadata": {
      "byteLimit": 2048000,
      "rowLimit": 10000
     },
     "inputWidgets": {},
     "nuid": "445d6362-dbc1-44a2-b484-fcda4b4328aa",
     "showTitle": false,
     "tableResultSettingsMap": {},
     "title": ""
    }
   },
   "source": [
    "In train_data set (80% rawdata) descriptive analysis, we can tell that mean value is age of 40, female audience(1.9≈2), who use Desktop (1.9≈2), enjoy browsing entertainment page(3.01≈3), position of ad pop up on the side of website they are browsing, and they view ad in afternoon time(2.48≈2), but tend to not click the ads at this moment.\n",
    "However, there's a bit different in the mode descriptive data, which is the most frequent appeared profile in the dataset, and the result here showing our basic demogrphic are same in gender, age, and device_type, but the ad pops up more in the bottom of webpage, our common audience seems to view ad in the morning, and prefer to have a click more!"
   ]
  },
  {
   "cell_type": "code",
   "execution_count": 0,
   "metadata": {
    "application/vnd.databricks.v1+cell": {
     "cellMetadata": {
      "byteLimit": 2048000,
      "rowLimit": 10000
     },
     "inputWidgets": {},
     "nuid": "86204f03-2c84-4606-ae3c-81d49266617b",
     "showTitle": false,
     "tableResultSettingsMap": {},
     "title": ""
    }
   },
   "outputs": [],
   "source": [
    "# Data Visualization -> use matplotlib\n",
    "import matplotlib.pyplot as plt"
   ]
  },
  {
   "cell_type": "code",
   "execution_count": 0,
   "metadata": {
    "application/vnd.databricks.v1+cell": {
     "cellMetadata": {
      "byteLimit": 2048000,
      "rowLimit": 10000
     },
     "inputWidgets": {},
     "nuid": "e7d99b30-c1f2-4116-ad3b-47c2e3668cd4",
     "showTitle": false,
     "tableResultSettingsMap": {},
     "title": ""
    }
   },
   "outputs": [
    {
     "output_type": "display_data",
     "data": {
      "image/png": "[encoded data removed]"
     },
     "metadata": {
      "application/vnd.databricks.v1+output": {
       "addedWidgets": {},
       "arguments": {},
       "data": "data:image/png;base64,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\n",
       "datasetInfos": [],
       "metadata": {},
       "removedWidgets": [],
       "type": "image"
      }
     },
     "output_type": "display_data"
    }
   ],
   "source": [
    "# Age Distribution\n",
    "plt.hist(train_data.select(\"age\").rdd.flatMap(lambda x: x).collect(), bins=20, color='skyblue')\n",
    "plt.title(\"Age Distribution\")\n",
    "plt.xlabel(\"Age\")\n",
    "plt.ylabel(\"Frequency\")\n",
    "plt.show()"
   ]
  },
  {
   "cell_type": "markdown",
   "metadata": {
    "application/vnd.databricks.v1+cell": {
     "cellMetadata": {
      "byteLimit": 2048000,
      "rowLimit": 10000
     },
     "inputWidgets": {},
     "nuid": "5742a2c4-70a1-4f2a-b448-f11b1384d1fa",
     "showTitle": false,
     "tableResultSettingsMap": {},
     "title": ""
    }
   },
   "source": [
    "-> 40 year old respondents seems to be a lots more than other ages, this is because I impute null value with average age in train dataset."
   ]
  },
  {
   "cell_type": "code",
   "execution_count": 0,
   "metadata": {
    "application/vnd.databricks.v1+cell": {
     "cellMetadata": {
      "byteLimit": 2048000,
      "rowLimit": 10000
     },
     "inputWidgets": {},
     "nuid": "22170f78-6072-4d60-a6f7-12d06d57d0d0",
     "showTitle": false,
     "tableResultSettingsMap": {},
     "title": ""
    }
   },
   "outputs": [
    {
     "output_type": "display_data",
     "data": {
      "image/png": "[encoded data removed]"
     },
     "metadata": {
      "application/vnd.databricks.v1+output": {
       "addedWidgets": {},
       "arguments": {},
       "data": "data:image/png;base64,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\n",
       "datasetInfos": [],
       "metadata": {},
       "removedWidgets": [],
       "type": "image"
      }
     },
     "output_type": "display_data"
    }
   ],
   "source": [
    "# Define subplot layout\n",
    "fig, axs = plt.subplots(2, 3, figsize=(15, 10))  # 2 rows, 3 columns; adjust figsize as needed\n",
    "fig.delaxes(axs[1, 2])  # Remove the last subplot (since we have only 5 graphs)\n",
    "\n",
    "# Flatten the axs array for easier iteration\n",
    "axs = axs.flatten()\n",
    "\n",
    "# Loop through the columns and plot each on a subplot\n",
    "for i, column in enumerate([\"gender\", \"device_type\", \"ad_position\", \"browsing_history\", \"time_of_day\"]):\n",
    "    values = train_data.groupBy(column).count().orderBy(column).toPandas()\n",
    "    \n",
    "    # Create the bar plot in the corresponding subplot\n",
    "    axs[i].bar(values[column], values['count'], color='skyblue')\n",
    "    axs[i].set_title(f\"{column.capitalize()} Distribution\")\n",
    "    axs[i].set_xlabel(column.capitalize())\n",
    "    axs[i].set_ylabel(\"Frequency\")\n",
    "\n",
    "    # Set integer ticks\n",
    "    axs[i].set_xticks(values[column])  # Ensure ticks are only for unique values\n",
    "    axs[i].set_xticklabels(values[column].astype(str))  # Convert labels to strings if needed\n",
    "\n",
    "# Adjust layout for better appearance\n",
    "plt.tight_layout()\n",
    "plt.show()"
   ]
  },
  {
   "cell_type": "markdown",
   "metadata": {
    "application/vnd.databricks.v1+cell": {
     "cellMetadata": {
      "byteLimit": 2048000,
      "rowLimit": 10000
     },
     "inputWidgets": {},
     "nuid": "b3edfb3b-5614-4854-b55b-51da34e7bd42",
     "showTitle": false,
     "tableResultSettingsMap": {},
     "title": ""
    }
   },
   "source": [
    "-> distribution in gender, device, ad position, browsing history and time of day seems to be closer to equally distribution and normal distribution is because I impute null value with train dataset distribution of these few columns, so it's more likely to simulatly show the distribution of the non-null value."
   ]
  },
  {
   "cell_type": "code",
   "execution_count": 0,
   "metadata": {
    "application/vnd.databricks.v1+cell": {
     "cellMetadata": {
      "byteLimit": 2048000,
      "rowLimit": 10000
     },
     "inputWidgets": {},
     "nuid": "4ca966f9-d4b4-4d6e-8044-b47fc1f27a2f",
     "showTitle": false,
     "tableResultSettingsMap": {},
     "title": ""
    }
   },
   "outputs": [
    {
     "output_type": "display_data",
     "data": {
      "image/png": "[encoded data removed]"
     },
     "metadata": {
      "application/vnd.databricks.v1+output": {
       "addedWidgets": {},
       "arguments": {},
       "data": "data:image/png;base64,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\n",
       "datasetInfos": [],
       "metadata": {},
       "removedWidgets": [],
       "type": "image"
      }
     },
     "output_type": "display_data"
    }
   ],
   "source": [
    "# ad click\n",
    "click_counts = train_data.groupBy(\"click\").count().toPandas()\n",
    "plt.pie(click_counts['count'], labels=[\"No Click\", \"Click\"], autopct='%1.1f%%', startangle=140, colors=['lightgray', 'lightgreen'])\n",
    "plt.title(\"Click-Through Rate (CTR)\")\n",
    "plt.show()"
   ]
  },
  {
   "cell_type": "markdown",
   "metadata": {
    "application/vnd.databricks.v1+cell": {
     "cellMetadata": {
      "byteLimit": 2048000,
      "rowLimit": 10000
     },
     "inputWidgets": {},
     "nuid": "9afad30b-b0da-4467-9379-e90f37a54fab",
     "showTitle": false,
     "tableResultSettingsMap": {},
     "title": ""
    }
   },
   "source": [
    "-> There's no missing value in ad click column, as a result, this is a 100% real distribution on call to action part. However, according to FaceBook and Google released ad related CTR data, the click rate is not actually this high, so the ad click rate calculation of dataset is more likely to be on certain specific social media such as Twitter or TikTok, etc, compares to more generally Google and Facebook ads.\n",
    "(support information) The average click-through rate (CTR) for ads varies depending on the type of ad and the platform it appears on:\n",
    "Search ads: The average CTR for search ads is around 1.91%.\n",
    "Display ads: The average CTR for display ads is around 0.35%.\n",
    "Facebook ads: The average CTR for Facebook ads is around 1.11%.\n",
    "Instagram ads: The average CTR for Instagram ads is around 0.22%.\n",
    "LinkedIn ads: The average CTR for LinkedIn ads is around 0.22%.\n",
    "Twitter ads: The average CTR for Twitter ads is around 0.86%.\n",
    "Social feeds: The average CTR for social feeds is around 1.1–1.3%."
   ]
  },
  {
   "cell_type": "code",
   "execution_count": 0,
   "metadata": {
    "application/vnd.databricks.v1+cell": {
     "cellMetadata": {
      "byteLimit": 2048000,
      "rowLimit": 10000
     },
     "inputWidgets": {},
     "nuid": "5afb9335-ad3d-4181-86ab-d1d606e5b343",
     "showTitle": false,
     "tableResultSettingsMap": {},
     "title": ""
    }
   },
   "outputs": [
    {
     "output_type": "display_data",
     "data": {
      "image/png": "[encoded data removed]"
     },
     "metadata": {
      "application/vnd.databricks.v1+output": {
       "addedWidgets": {},
       "arguments": {},
       "data": "data:image/png;base64,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\n",
       "datasetInfos": [],
       "metadata": {},
       "removedWidgets": [],
       "type": "image"
      }
     },
     "output_type": "display_data"
    }
   ],
   "source": [
    "plt.boxplot(train_data.select(\"age\").rdd.flatMap(lambda x: x).collect())\n",
    "plt.title(\"Age Distribution with Mean and Mode\")\n",
    "plt.ylabel(\"Age\")\n",
    "plt.axhline(y=40, color='r', linestyle='--', label=\"Mean Age\")\n",
    "plt.axhline(y=mode_results[\"age\"], color='b', linestyle='-', label=\"Mode Age\")\n",
    "plt.legend()\n",
    "plt.show()\n"
   ]
  },
  {
   "cell_type": "code",
   "execution_count": 0,
   "metadata": {
    "application/vnd.databricks.v1+cell": {
     "cellMetadata": {
      "byteLimit": 2048000,
      "rowLimit": 10000
     },
     "inputWidgets": {},
     "nuid": "52146fd7-a385-43a2-a773-11974b272e88",
     "showTitle": false,
     "tableResultSettingsMap": {},
     "title": ""
    }
   },
   "outputs": [
    {
     "output_type": "stream",
     "name": "stdout",
     "output_type": "stream",
     "text": [
      "26\n40.197363393198316\n"
     ]
    }
   ],
   "source": [
    "# Calculate mode of 'age' in raw data\n",
    "# Drop rows where 'age' is null in the raw data\n",
    "new_raw_data = raw.dropna(subset=[\"age\"])\n",
    "\n",
    "# Calculate mode of 'age' in the filtered raw data\n",
    "raw_age_mode = calculate_mode(new_raw_data, \"age\")\n",
    "print(raw_age_mode)\n",
    "\n",
    "# Calculate average of 'age' in the filtered raw data\n",
    "raw_age_avg = new_raw_data.agg(avg(\"age\")).first()[0]\n",
    "print(raw_age_avg)"
   ]
  },
  {
   "cell_type": "markdown",
   "metadata": {
    "application/vnd.databricks.v1+cell": {
     "cellMetadata": {
      "byteLimit": 2048000,
      "rowLimit": 10000
     },
     "inputWidgets": {},
     "nuid": "bd766bca-1d5f-4b4f-897c-e80e653ec10b",
     "showTitle": false,
     "tableResultSettingsMap": {},
     "title": ""
    }
   },
   "source": [
    "-> Even though the average age in raw data after dropping null value is 40, but actually the mode age in raw data is just 26, compare to 40 in train data after impute null value, there's a significant difference... but we will testify if this is going to influence accuraccy in prediction model later."
   ]
  },
  {
   "cell_type": "markdown",
   "metadata": {
    "application/vnd.databricks.v1+cell": {
     "cellMetadata": {
      "byteLimit": 2048000,
      "rowLimit": 10000
     },
     "inputWidgets": {},
     "nuid": "1b43fd04-4f2a-44e2-bb88-d4dd9ff24da0",
     "showTitle": false,
     "tableResultSettingsMap": {},
     "title": ""
    }
   },
   "source": [
    "# Model Training"
   ]
  },
  {
   "cell_type": "code",
   "execution_count": 0,
   "metadata": {
    "application/vnd.databricks.v1+cell": {
     "cellMetadata": {
      "byteLimit": 2048000,
      "rowLimit": 10000
     },
     "inputWidgets": {},
     "nuid": "568431ef-19c1-42b4-a4a5-5d3310825a97",
     "showTitle": false,
     "tableResultSettingsMap": {},
     "title": ""
    }
   },
   "outputs": [],
   "source": [
    "from pyspark.ml.feature import StringIndexer, OneHotEncoder\n",
    "\n",
    "# Create StringIndexers for categorical columns\n",
    "indexers = [\n",
    "    StringIndexer(inputCol=column, outputCol=column+\"_indexed\", handleInvalid=\"keep\") \n",
    "    for column in ['gender', 'device_type', 'ad_position']\n",
    "]\n",
    "\n",
    "# Create OneHotEncoders\n",
    "encoders = [\n",
    "    OneHotEncoder(inputCols=[column+\"_indexed\" for column in ['gender', 'device_type', 'ad_position']],\n",
    "                  outputCols=[column+\"_encoded\" for column in ['gender', 'device_type', 'ad_position']])\n",
    "]\n",
    "\n",
    "# Update feature columns to use encoded columns\n",
    "feature_columns = ['gender_encoded', 'device_type_encoded', 'ad_position_encoded', \n",
    "                   'browsing_history', 'time_of_day']"
   ]
  },
  {
   "cell_type": "code",
   "execution_count": 0,
   "metadata": {
    "application/vnd.databricks.v1+cell": {
     "cellMetadata": {
      "byteLimit": 2048000,
      "rowLimit": 10000
     },
     "inputWidgets": {},
     "nuid": "cff7e045-434e-4e9e-8cb2-df95131db200",
     "showTitle": false,
     "tableResultSettingsMap": {},
     "title": ""
    }
   },
   "outputs": [
    {
     "output_type": "stream",
     "name": "stdout",
     "output_type": "stream",
     "text": [
      "root\n |-- age: integer (nullable = true)\n |-- gender: integer (nullable = true)\n |-- device_type: integer (nullable = true)\n |-- ad_position: integer (nullable = true)\n |-- browsing_history: integer (nullable = true)\n |-- time_of_day: integer (nullable = true)\n |-- click: integer (nullable = true)\n\n"
     ]
    }
   ],
   "source": [
    "train_data.printSchema()"
   ]
  },
  {
   "cell_type": "code",
   "execution_count": 0,
   "metadata": {
    "application/vnd.databricks.v1+cell": {
     "cellMetadata": {
      "byteLimit": 2048000,
      "rowLimit": 10000
     },
     "inputWidgets": {},
     "nuid": "e3c93a54-f466-4589-994f-5e907878c70e",
     "showTitle": false,
     "tableResultSettingsMap": {},
     "title": ""
    }
   },
   "outputs": [],
   "source": [
    "test_data = test_data.na.drop()  # Drop rows with any null values"
   ]
  },
  {
   "cell_type": "code",
   "execution_count": 0,
   "metadata": {
    "application/vnd.databricks.v1+cell": {
     "cellMetadata": {
      "byteLimit": 2048000,
      "rowLimit": 10000
     },
     "inputWidgets": {},
     "nuid": "93d3591b-64f1-4de4-865e-3737d278e234",
     "showTitle": false,
     "tableResultSettingsMap": {},
     "title": ""
    }
   },
   "outputs": [
    {
     "output_type": "stream",
     "name": "stdout",
     "output_type": "stream",
     "text": [
      "Decision Tree AUC: 0.5717787114845939\nGradient Boosted Tree AUC: 0.7253151260504201\n"
     ]
    }
   ],
   "source": [
    "from pyspark.ml import Pipeline\n",
    "from pyspark.ml.feature import StringIndexer, OneHotEncoder, VectorAssembler\n",
    "from pyspark.sql.functions import col\n",
    "from pyspark.sql.types import DoubleType\n",
    "from pyspark.ml.classification import DecisionTreeClassifier, GBTClassifier\n",
    "from pyspark.ml.evaluation import BinaryClassificationEvaluator\n",
    "\n",
    "# Categorical columns to encode\n",
    "categorical_columns = ['gender', 'device_type', 'ad_position', 'browsing_history', 'time_of_day']\n",
    "\n",
    "# Create StringIndexers for categorical columns\n",
    "indexers = [\n",
    "    StringIndexer(inputCol=column, outputCol=column+\"_indexed\", handleInvalid=\"keep\") \n",
    "    for column in categorical_columns\n",
    "]\n",
    "\n",
    "# Create OneHotEncoders for each indexed column\n",
    "encoders = [\n",
    "    OneHotEncoder(inputCols=[column+\"_indexed\"], outputCols=[column+\"_encoded\"])\n",
    "    for column in categorical_columns\n",
    "]\n",
    "\n",
    "# Define the preprocessing pipeline\n",
    "preprocessing_pipeline = Pipeline(stages=indexers + encoders)\n",
    "\n",
    "# Fit the pipeline on training data and transform both datasets\n",
    "preprocessing_model = preprocessing_pipeline.fit(train_data)\n",
    "train_preprocessed = preprocessing_model.transform(train_data)\n",
    "test_preprocessed = preprocessing_model.transform(test_data)\n",
    "\n",
    "# Convert 'click' to double type (if necessary)\n",
    "train_preprocessed = train_preprocessed.withColumn(\"click\", col(\"click\").cast(DoubleType()))\n",
    "test_preprocessed = test_preprocessed.withColumn(\"click\", col(\"click\").cast(DoubleType()))\n",
    "\n",
    "# Prepare the feature columns: use encoded versions + any numeric columns\n",
    "encoded_columns = [col+\"_encoded\" for col in categorical_columns]\n",
    "numeric_columns = ['age']  # Add other numerical columns if needed\n",
    "feature_columns = encoded_columns + numeric_columns\n",
    "\n",
    "# Create VectorAssembler\n",
    "assembler = VectorAssembler(inputCols=feature_columns, outputCol='features')\n",
    "\n",
    "# Assemble features in both datasets\n",
    "train_features = assembler.transform(train_preprocessed)\n",
    "test_features = assembler.transform(test_preprocessed)\n",
    "\n",
    "# Train Decision Tree Model\n",
    "dt_classifier = DecisionTreeClassifier(labelCol=\"click\", featuresCol=\"features\")\n",
    "dt_model = dt_classifier.fit(train_features)\n",
    "dt_predictions = dt_model.transform(test_features)\n",
    "\n",
    "# Train Gradient Boosted Tree Model\n",
    "gbt_classifier = GBTClassifier(labelCol=\"click\", featuresCol=\"features\")\n",
    "gbt_model = gbt_classifier.fit(train_features)\n",
    "gbt_predictions = gbt_model.transform(test_features)\n",
    "\n",
    "# Evaluate both models using AUC\n",
    "evaluator = BinaryClassificationEvaluator(labelCol=\"click\", metricName=\"areaUnderROC\")\n",
    "\n",
    "dt_auc = evaluator.evaluate(dt_predictions)\n",
    "print(\"Decision Tree AUC:\", dt_auc)\n",
    "\n",
    "gbt_auc = evaluator.evaluate(gbt_predictions)\n",
    "print(\"Gradient Boosted Tree AUC:\", gbt_auc)\n"
   ]
  },
  {
   "cell_type": "code",
   "execution_count": 0,
   "metadata": {
    "application/vnd.databricks.v1+cell": {
     "cellMetadata": {
      "byteLimit": 2048000,
      "rowLimit": 10000
     },
     "inputWidgets": {},
     "nuid": "9948e05e-6f2b-4e80-9406-203ecfff4440",
     "showTitle": false,
     "tableResultSettingsMap": {},
     "title": ""
    }
   },
   "outputs": [
    {
     "output_type": "stream",
     "name": "stdout",
     "output_type": "stream",
     "text": [
      "Out[31]: DataFrame[age: int, gender: int, device_type: int, ad_position: int, browsing_history: int, time_of_day: int, click: double, gender_indexed: double, device_type_indexed: double, ad_position_indexed: double, browsing_history_indexed: double, time_of_day_indexed: double, gender_encoded: vector, device_type_encoded: vector, ad_position_encoded: vector, browsing_history_encoded: vector, time_of_day_encoded: vector]"
     ]
    }
   ],
   "source": [
    "test_preprocessed"
   ]
  },
  {
   "cell_type": "code",
   "execution_count": 0,
   "metadata": {
    "application/vnd.databricks.v1+cell": {
     "cellMetadata": {
      "byteLimit": 2048000,
      "rowLimit": 10000
     },
     "inputWidgets": {},
     "nuid": "8c6865f5-7325-4324-a70b-a6ee3e17926a",
     "showTitle": false,
     "tableResultSettingsMap": {},
     "title": ""
    }
   },
   "outputs": [
    {
     "output_type": "stream",
     "name": "stdout",
     "output_type": "stream",
     "text": [
      "Random Forest AUC: 0.6083683473389355\n"
     ]
    }
   ],
   "source": [
    "# Random Forest Classifier\n",
    "# Create VectorAssembler\n",
    "assembler = VectorAssembler(inputCols=feature_columns, outputCol='features')\n",
    "\n",
    "# Prepare data by assembling features\n",
    "train_features = assembler.transform(train_preprocessed)\n",
    "test_features = assembler.transform(test_preprocessed)\n",
    "\n",
    "# Train Random Forest Model\n",
    "rf_classifier = RandomForestClassifier(labelCol=\"click\", featuresCol=\"features\")\n",
    "rf_model = rf_classifier.fit(train_features)\n",
    "rf_predictions = rf_model.transform(test_features)\n",
    "\n",
    "# Evaluate Random Forest Model\n",
    "rf_evaluator = BinaryClassificationEvaluator(labelCol=\"click\")\n",
    "rf_auc = rf_evaluator.evaluate(rf_predictions)\n",
    "print(\"Random Forest AUC:\", rf_auc)\n"
   ]
  },
  {
   "cell_type": "code",
   "execution_count": 0,
   "metadata": {
    "application/vnd.databricks.v1+cell": {
     "cellMetadata": {
      "byteLimit": 2048000,
      "rowLimit": 10000
     },
     "inputWidgets": {},
     "nuid": "5787957f-8a3e-4f4c-bf1e-d1a22c24724a",
     "showTitle": false,
     "tableResultSettingsMap": {},
     "title": ""
    }
   },
   "outputs": [
    {
     "output_type": "stream",
     "name": "stdout",
     "output_type": "stream",
     "text": [
      "Feature Importances: (19,[0,1,2,3,4,5,6,7,8,9,10,11,12,13,14,15,16,17,18],[0.02108657532163067,0.013920007574252135,0.03315746757155159,0.02220047990360938,0.046253447888956606,0.02783302265105395,0.08308462172867279,0.03485000444956983,0.04504958506111734,0.02832588716172899,0.03008616544107432,0.02137873772377708,0.02299750316882898,0.020758191780128863,0.03043936284059786,0.02356182667198994,0.0314968906736017,0.008817654245336702,0.45470256814252147])\n"
     ]
    }
   ],
   "source": [
    "# rf = RandomForestClassifier(featuresCol=\"features\", labelCol=\"click\")\n",
    "model = rf_classifier.fit(train_features)\n",
    "importances = model.featureImportances\n",
    "print(\"Feature Importances:\", importances)\n"
   ]
  },
  {
   "cell_type": "code",
   "execution_count": 0,
   "metadata": {
    "application/vnd.databricks.v1+cell": {
     "cellMetadata": {
      "byteLimit": 2048000,
      "rowLimit": 10000
     },
     "inputWidgets": {},
     "nuid": "64fead7d-08b6-43ee-80e5-61064774a4be",
     "showTitle": false,
     "tableResultSettingsMap": {},
     "title": ""
    }
   },
   "outputs": [
    {
     "output_type": "stream",
     "name": "stdout",
     "output_type": "stream",
     "text": [
      "Precision: 0.6516129032258065\nRecall: 0.9901960784313726\nF1-Score: 0.7859922178988327\n"
     ]
    },
    {
     "output_type": "display_data",
     "data": {
      "image/png": "[encoded data removed]"
     },
     "metadata": {
      "application/vnd.databricks.v1+output": {
       "addedWidgets": {},
       "arguments": {},
       "data": "data:image/png;base64,iVBORw0KGgoAAAANSUhEUgAAAdMAAAGDCAYAAABwcPpaAAAAOXRFWHRTb2Z0d2FyZQBNYXRwbG90bGliIHZlcnNpb24zLjUuMSwgaHR0cHM6Ly9tYXRwbG90bGliLm9yZy/YYfK9AAAACXBIWXMAAAsTAAALEwEAmpwYAAAjNElEQVR4nO3deZgmVXn38e9vWJRl2BeJSkBEDO5oBDUqihp3EIkaURExZAE3IBryEoiaxGji+roFt4AaFwQDiBEJiokmAdlkEY2oLwoMsm/DNuj9/vFUY9P29PR0dU31U/39eNXVT52qp86pcZi771OnzklVIUmS5m5J3w2QJGncGUwlSWrJYCpJUksGU0mSWjKYSpLUksFUkqSWDKZalJKsl+TkJDclOa7FdfZN8vX5bFsfkvxbkv36boc0rgymWtCSvDzJ2UluTbKs+Uf/9+bh0vsAWwObV9UfzPUiVfXZqnrWPLTnXpLsnqSSfHlK+aOa8jNmeZ2/TvKZVZ1XVc+pqmPm2Fxp0TOYasFKcgjwPuDvGAW+bYEPA3vOw+V/G/jfqrp7Hq7VlWuAJyTZfFLZfsD/zlcFGfHfAakl/yPSgpRkY+BtwEFVdUJVLa+qFVV1clX9eXPOfZK8L8mVzfa+JPdpju2e5PIkhya5uslq92+OvRU4Enhpk/EeMDWDS7JdkwGu3ey/OslPktyS5KdJ9p1U/u1J33tiku823cffTfLEScfOSPL2JN9prvP1JFvM8MdwF/CvwMua768FvBT47JQ/q/cn+XmSm5Ock+TJTfmzgb+cdJ/fm9SOv03yHeA24EFN2Wub4x9Jcvyk678zyelJMtv//6TFxmCqheoJwH2BL89wzv8BdgMeDTwKeDxwxKTj9wM2Bu4PHAB8KMmmVXUUo2z3C1W1YVV9YqaGJNkA+ADwnKpaCjwROH+a8zYDTmnO3Rx4D3DKlMzy5cD+wFbAusBhM9UNHAu8qvn8+8BFwJVTzvkuoz+DzYB/AY5Lct+q+tqU+3zUpO+8EjgQWApcNuV6hwKPaH5ReDKjP7v9yrlHpZUymGqh2hy4dhXdsPsCb6uqq6vqGuCtjILEhBXN8RVV9VXgVmCnObbnV8DDk6xXVcuq6uJpznke8KOq+nRV3V1VnwN+ALxg0jmfqqr/rarbgS8yCoIrVVX/BWyWZCdGQfXYac75TFVd19T5buA+rPo+/7mqLm6+s2LK9W5j9Of4HuAzwOuq6vJVXE9a1AymWqiuA7aY6GZdid/i3lnVZU3ZPdeYEoxvAzZc3YZU1XJG3at/AixLckqSh86iPRNtuv+k/avm0J5PAwcDT2OaTD3JYUkuabqWb2SUjc/UfQzw85kOVtWZwE+AMAr6kmZgMNVC9d/AncBeM5xzJaOBRBO25Te7QGdrObD+pP37TT5YVadW1TOBbRhlmx+bRXsm2nTFHNs04dPAnwFfbbLGezTdsG8GXgJsWlWbADcxCoIAK+uanbHLNslBjDLcK5vrS5qBwVQLUlXdxGiQ0IeS7JVk/STrJHlOknc1p30OOCLJls1AniMZdUvOxfnAU5Js2wx+OnziQJKtk+zZPDu9k1F38a+mucZXgYc0r/OsneSlwM7AV+bYJgCq6qfAUxk9I55qKXA3o5G/ayc5Etho0vFfANutzojdJA8B/gZ4BaPu3jcnefTcWi8tDgZTLVjN879DGA0quoZR1+TBjEa4wugf/LOBC4ALgXObsrnUdRrwheZa53DvALikaceVwPWMAtufTnON64DnMxrAcx2jjO75VXXtXNo05drfrqrpsu5Tga8xel3mMuAO7t2FOzEhxXVJzl1VPU23+meAd1bV96rqR4xGBH96YqS0pN8UB+hJktSOmakkSS0ZTCVJaslgKklSSwZTSZJaMphKkgYtySebObovmlS2WZLTkvyo+blpU54kH0hyaZILkuwyqzoW6mje21Ys0IZJq+ng4y9a9UnSAvfJlz2is4UO1nvMwa3+vb/9vA/O2LYkT2H0fvixVfXwpuxdwPVV9fdJ/oLRpCdvSfJc4HXAc4FdgfdX1a6raoOZqSSpX1nSbluFqvoPRu+IT7YnMLGG7zH8era1PRkF3aqq/wE2SbLNquqYad5TSZK618/qfltX1bLm81WM1kyG0Vzakyc+ubwpW8YMDKaSpH61XJ8+yYGMlhSccHRVHT3b71dVJWnV1WwwlSSNtSZwzjp4Nn6RZJuqWtZ0417dlF8BPHDSeQ9gFotV+MxUktSvpN02NycB+zWf9wNOnFT+qmZU727ATZO6g1fKzFSS1K+W3byrvHzyOWB3RmskXw4cBfw98MUkBzBaJOIlzelfZTSS91JGaw7vP5s6DKaSpH51PACpqv5wJYf2mObcAg5a3Trs5pUkqSUzU0lSvzru5l0TDKaSpH71857pvDKYSpL6ZWYqSVJLA8hMx//XAUmSemZmKknql928kiS1NIBuXoOpJKlfZqaSJLU0gGA6/ncgSVLPzEwlSf1a4jNTSZLaGUA3r8FUktSvAYzmHf9fByRJ6pmZqSSpX3bzSpLU0gC6eQ2mkqR+mZlKktTSADLT8f91QJKknpmZSpL6ZTevJEktDaCb12AqSeqXmakkSS0NIDMd/18HJEnqmZmpJKlfdvNKktSSwVSSpJZ8ZipJksxMJUn9sptXkqSWBtDNazCVJPXLzFSSpJYGkJmO/68DkiT1zMxUktSrDCAzNZhKknplMJUkqa3xj6U+M5UkqS0zU0lSr+zmlSSpJYOpJEktGUwlSWppCMHUAUiSJLVkZipJ6tf4J6YGU0lSv4bQzWswlST1ymAqSVJLQwimDkCSJKklM1NJUq+GkJkaTCVJ/Rr/WGowlST1awiZqc9MJUlqqbPMNMl9qurOKWWbVdX1XdUpSRo/ZqYzOyHJOhM7SbYBTuuwPknSGErSalsIugym/wp8MclaSbYDTgUO77A+SdI4SsttAeism7eqPpZkXUZBdTvgj6vqv7qqT5I0nhZKdtnGvAfTJIdM3gW2Bc4HdkuyW1W9Z77rlCSpT11kpkun7J+wknJJktZIZprkTcBrgQIuBPYHtgE+D2wOnAO8sqrumsv15z2YVtVb5/uakqTh6jqYJrk/8Hpg56q6PckXgZcBzwXeW1WfT/JR4ADgI3Opo7MBSElOS7LJpP1Nk5zaVX2SpPG0hkbzrg2sl2RtYH1gGfB04EvN8WOAveZ6D12O5t2yqm6c2KmqG4CtOqxPkjSOWo7mTXJgkrMnbQdOvnxVXQH8I/AzRkH0JkbdujdW1d3NaZcD95/rLXQ5neAvk2xbVT8DSPLbjPqqJUmaN1V1NHD0yo4n2RTYE9geuBE4Dnj2fLahy2D6f4BvJ/kWo98fngwcOPNXJEmLzRoYgPQM4KdVdU1T3wnAk4BNkqzdZKcPAK6YawVdvmf6tSS7ALs1RW+sqmu7qk+SNJ7WQDD9GaPXM9cHbgf2AM4Gvgnsw2hE737AiXOtYN6fmSZ5aPNzF0bvmF7ZbNs2ZZIk3aPrAUhVdSajgUbnMnotZgmjbuG3AIckuZTR6zGfmOs9dJGZHgr8EfDuaY4Vo9FTkiStMVV1FHDUlOKfAI+fj+t38Z7pHzU/nzbf15YkDdD4zybYyXSCe890vKpOmOm4JGlxcW7e6b1ghmPFr6cXlCTJYDqdqtp/vq+p+XXVsmX81V++heuuu44kvHifl/DyV76q72ZJs/auF+zEHSt+xa+q+FUVb/v6j+859vs7bcFLH7MNrz/h+9x61y97bKVmy2A6jWbVmJuq6hNTyg8AllbV++a7Tq2etdZei0P+/C38zs4PY/nyW3n5S17Mrk98Ijvs8OC+mybN2ru+8ZPfCJabrr8OD7vfhly7fE5zlUtz1sV0gvsCx05T/mngNR3Up9W05ZZb8Ts7PwyADTbYkO0ftAPX/OIXPbdKau8PH7MNx33vqr6bodW0hubm7VQXz0zXrqoVUwur6q4slLvWPa684nJ+eMklPPyRj+q7KdKsVcGhu29PAd/68XV868c38Oj7L+WG21bw8xvv6Lt5Wl0DiAxdZKZLkmw9tXC6smnOuWey4k9+fKXTLGqe3Hbbcg570+s57C2Hs+GGG/bdHGnW3nH6j3nr1y/lvd/6KU9/8OY8ZMv1ef7OW/GvF9nDMo7MTKf3D8ApSQ5lNNsEwGOb8n+c6YuTJyu+bUU5KX6HVqxYwWFvfD3Ped4L2OOZz+q7OdJqufH20UIft9z5S8694mZ22mpDtthgXd767B0B2HS9dTjq9x/M20/7MTffcfdMl9ICsFACYhtdjOY9Nsk1wNuAhzN6HeZi4Miq+rf5rk+rr6p465FHsP2DduCV+zn4WuNl3bXCkoQ77v4V664VHna/DTnpoqt548VX33POu16wE2879VJH82qN6WSi+yZoGjgXqPPPO5dTTj6RHXd8CC998V4AHPyGN/Hkpzy134ZJs7Dxfdfm4N/7bQCWLAlnXnYjF111a8+tUhsDSEw7XYJNC9Rjdnks5130g76bIc3JNctXcNSpl854zptP/uEaao3mg928kiS1NIBY2sloXgCSbD+bMkmSxl1nwRQ4fpqyL3VYnyRpDPlqzDSaxcEfBmw8ZQWZjYD7znd9kqTxtkDiYStdPDPdCXg+sAn3XkHmFkaLhkuSdI8lS8Y/mnbxnumJwIlJnlBV/z3f15ckDcsQMtMun5n+PMmXk1zdbMcneUCH9UmS1Isug+mngJOA32q2k5sySZLuMYQBSF0G062q6lNVdXez/TOwZYf1SZLGUNJuWwi6DKbXJnlFkrWa7RXAdR3WJ0kaQ2amM3sN8BLgKmAZsA/grOqSpHsZQjDtbDrBqroMeGFX15ckaaHoYtKGI2c4XFX19vmuU5I0vhZIctlKF5np8mnKNgAOADYHDKaSpHsslK7aNrqYtOHdE5+TLAXewOhZ6eeBd6/se5KkxWkAsbSbZ6ZJNgMOAfYFjgF2qaobuqhLkqS+dfHM9B+AvYGjgUdU1a3zXYckaTiG0M3bxasxhzKa8egI4MokNzfbLUlu7qA+SdIYG8KkDV08M+3y3VVJ0sAMITPt7D1TSZJmYwCxtNMZkCRJWhTMTCVJvbKbV5KklgYQSw2mkqR+mZlKktTSAGKpA5AkSWrLzFSS1Cu7eSVJamkAsdRgKknq1xAyU5+ZSpLUkpmpJKlXQ8hMDaaSpF4NIJYaTCVJ/TIzlSSppQHEUgcgSZLUlpmpJKlXdvNKktTSAGKpwVSS1K8lA4imBlNJUq8GEEsdgCRJUltmppKkXjkASZKklpaMfyw1mEqS+jWEzNRnppIktWQwlST1Kmm3za6ObJLkS0l+kOSSJE9IslmS05L8qPm56VzvwWAqSepVWv5vlt4PfK2qHgo8CrgE+Avg9KraETi92Z8Tg6kkqVdL0m5blSQbA08BPgFQVXdV1Y3AnsAxzWnHAHvN+R7m+kVJkuZDkrbbgUnOnrQdOKWK7YFrgE8lOS/Jx5NsAGxdVcuac64Ctp7rPTiaV5I01qrqaODoGU5ZG9gFeF1VnZnk/Uzp0q2qSlJzbYOZqSSpV2tgANLlwOVVdWaz/yVGwfUXSbYZtSHbAFfP9R4MppKkXi1JWm2rUlVXAT9PslNTtAfwfeAkYL+mbD/gxLneg928kqReraE5G14HfDbJusBPgP0ZJZRfTHIAcBnwkrle3GAqSRq8qjofeNw0h/aYj+uvNJgm2WWmL1bVufPRAEnS4jaE6QRnykzfPcOxAp4+z22RJC1CA4ilKw+mVfW0NdkQSdLiNJtBRAvdKkfzJlk/yRFJjm72d0zy/O6bJklaDNJyWwhm82rMp4C7gCc2+1cAf9NZiyRJGjOzCaY7VNW7gBUAVXUbC+eXAUnSmGs7neBCMJtXY+5Ksh6jQUck2QG4s9NWSZIWjdlMVr/QzSaYHgV8DXhgks8CTwJe3WWjJEmLx0LJLttYZTCtqtOSnAvsxqh79w1VdW3nLZMkLQoDiKWzngHpqcDvMerqXQf4cmctkiRpzKwymCb5MPBg4HNN0R8neUZVHdRpyyRJi8Ki6OZlNNPR71TVxACkY4CLO22VJGnRWCwDkC4FtmU0oz7AA5sySZJaG3RmmuRkRs9IlwKXJDmr2d8VOGvNNE+SpIVvpsz0H9dYKyRJi9b456UzT3T/rTXZEEnS4rRYJrrfLcl3k9ya5K4kv0xy85ponCRp+JJ220IwmwFIHwReBhzHaJXyVwEP6bJRkqTFYwgDkGYz0T1VdSmwVlX9sqo+BTy722ZJkjQ+ZpOZ3pZkXeD8JO8CljHLICxJ0qoMIDGdVVB8ZXPewcByRu+Z7t1loyRJi8eSpNW2EMxmovuJyRruAN4KkOQLwEs7bJckaZFYIPGwldlOdD/VE+a1FZKkRWvRDECSJEkrN9N0grus7BCjZdg6tVD6waW2PvfOf+q7CVJrn3zZBzu79hCyupm6ed89w7EfzHdDJEmL0xC6eWeaTvBpa7IhkqTFaQhLsA0hu5YkqVdzHc0rSdK8GEJmajCVJPVqCM9MZ7NqTJK8IsmRzf62SR7ffdMkSYvBkrTbFoLZPDP9MKNJGv6w2b8F+FBnLZIkLSqLZQm2XatqlyTnAVTVDc3E95IkidkF0xVJ1gIKIMmWwK86bZUkadEYwiQ9swmmHwC+DGyV5G+BfYAjOm2VJGnRGMI7mrNZNeazSc4B9mA0leBeVXVJ5y2TJC0KA0hMVx1Mk2wL3AacPLmsqn7WZcMkSYvDYunmPYXR89IA9wW2B34IPKzDdkmSNDZm0837iMn7zWoyf9ZZiyRJi8oAEtPVnwGpqs5NsmsXjZEkLT4LZeKFNmbzzPSQSbtLgF2AKztrkSRpUVksz0yXTvp8N6NnqMd30xxJksbPjMG0maxhaVUdtobaI0laZAaQmK48mCZZu6ruTvKkNdkgSdLiMvRnpmcxej56fpKTgOOA5RMHq+qEjtsmSVoEwvhH09k8M70vcB3wdH79vmkBBlNJUmtDz0y3akbyXsSvg+iE6rRVkiSNkZmC6VrAhjBt/m0wlSTNi6Fnpsuq6m1rrCWSpEUpAxjOO1MwHf+7kyQteEPPTPdYY62QJC1aA0hMV74ma1VdvyYbIknSuFrtie4lSZpPi2VuXkmSOjP0Z6aSJHVuAInpyp+ZSpKk2TGYSpJ6tYS02mYjyVpJzkvylWZ/+yRnJrk0yReSrNvuHiRJ6lHSbpulNwCXTNp/J/DeqnowcANwQJt7MJhKknq1JO22VUnyAOB5wMeb/TBavOVLzSnHAHu1uQcHIEmSerUGXo15H/BmYGmzvzlwY1Xd3exfDty/TQVmppKksZbkwCRnT9oOnHTs+cDVVXVOl20wM5Uk9aptYlpVRwNHr+Twk4AXJnkuo/W5NwLeD2ySZO0mO30AcEWbNpiZSpJ6tSRptc2kqg6vqgdU1XbAy4BvVNW+wDeBfZrT9gNObHUPbb4sSVJba2g071RvAQ5JcimjZ6ifaHMPdvNKknq1prK6qjoDOKP5/BPg8fN1bTNTSZJaMjOVJPUqA5ic12AqSerV+IdSg6kkqWdDWM/UZ6aSJLVkZipJ6tX456UGU0lSzwbQy2swlST1y9G8kiS1NITBO0O4B0mSemVmKknqld28kiS1NP6h1GAqSerZEDJTn5lKktSSmakkqVdDyOoMppKkXg2hm9dgKknq1fiHUoOpJKlnA0hMB9FVLUlSr8xMJUm9WjKAjl6DqSSpV0Po5jWYSpJ6FTNTSZLaGUJm6gAkSZJaMjOVJPXKAUiSJLU0hG5eg6kkqVdDCKY+M5UkqSUzU0lSr3w1RpKklpaMfyw1mEqS+jWEzLTTZ6ZJnjNN2Z90Wackabwk7baFoOsBSH+V5OkTO0neDOzZcZ2SJK1RXXfzvhD4SpI/B54NPBSDqSRpkiF083YaTKvq2iQvBP4dOAfYp6qqyzolSePFAUgrkeQWoIA0P9cFHgTsk6SqaqMu6pUkjZ8hZKadPDOtqqVVtdGkn/etqg0n9ruoU7N35BGHs/uTn8Deez6/76ZIs/LRo/blstPfwdnH/eU9ZZtutD5f+cjBXHjikXzlIwezydL1AHjIdltzxjGHcuOZ7+WNr9yjryZrNTgAaRWSvCjJxpP2N0myV5d1atX23GtvPvJPH++7GdKsffrk/2HPgz50r7LD9n8mZ5z1Qx6x59s446wfctj+zwLghpuWc+g7j+N9x36jj6Zqkep6NO9RVXXTxE5V3Qgc1XGdWoXHPu532WjjjVd9orRAfOfcH3P9Tbfdq+z5uz+Sz5x8JgCfOflMXvC0RwJwzQ23cs73f8aKu3+5xtupuUnLbSHoejTvdMHaiSIktbbV5ku56tqbAbjq2pvZavOlPbdIc7VkofTVttB1Znp2kvck2aHZ3sNoVO+0khyY5OwkZ3/iY0d33DRJQ+J7AuPLzHTVXgf8FfCFZv804KCVnVxVRwNHA9xxN/6nIWmlrr7uFu63xUZcde3N3G+Ljbjm+lv6bpIWsU4z06paXlV/UVWPa7bDq2p5l3VKWhxO+daFvOIFuwLwihfsylfOuKDnFmnOBpCapos5FJK8r6remORk+M0Ms6peuKprmJl25y2HHcLZ3z2LG2+8gc0235w/Peh17P3iP+i7WYO16e8e3HcTxt4x73g1T37sjmyxyYZcff3NvP2jX+Xkb17AZ975Gh64zab8bNn1vOLNn+SGm29j682X8p3PvpmlG9yXX1Wx/LY7ecyL/5Zblt/R922MtdvP+2BnYevMH9/U6t/7XXfYuPeQ2lUwfWxVnZPkqdMdr6pvreoaBlMNhcFUQ9BlMD3rJ+2C6eMf1H8w7eSZaVWd0/xcZdCUJC1uvUfCedDVdIIXMk337oSqemQX9UqS1IeuRvPuDWwN/HxK+QOBqzqqU5I0jgaQmnY1mve9wE1VddnkDbipOSZJEjCa6L7N/xaCrjLTravqwqmFVXVhku06qlOSNIYGMAFSZ8F0kxmOrddRnZKkMTSAWNpZN+/ZSf5oamGS1zLDdIKSJI2jrjLTNwJfTrIvvw6ej2O0SPiLOqpTkjSOBpCadvWe6S+AJyZ5GvDwpviUqnKBQUnSvSyUQURtdDrRfVV9E/hml3VIksbbEAYgdb0EmyRJg2cwlST1qutFY5I8MMk3k3w/ycVJ3tCUb5bktCQ/an5uOtd7MJhKkvrV/RJsdwOHVtXOwG7AQUl2Bv4COL2qdgROb/bnxGAqSepV1zMgVdWyqjq3+XwLcAlwf2BP4JjmtGOAveZ6D50OQJIkaVXW5ACkZha+xwBnMpqtb1lz6CpGc8rPiZmpJGmsJTkwydmTtgNXct6GwPHAG6vq5snHarS495zXVTUzlST1qm1iWlVHA0fPWEeyDqNA+tmqOqEp/kWSbapqWZJtgKvn2gYzU0lSvzoegJQkwCeAS6rqPZMOnQTs13zeDzhxrrdgZipJ6tUamAHpScArgQuTnN+U/SXw98AXkxwAXAa8ZK4VGEwlSb3qegBSVX2bleewe8xHHXbzSpLUkpmpJKlXA5ia12AqSerZAKKpwVSS1KshLMHmM1NJkloyM5Uk9WoI65kaTCVJvRpALDWYSpJ6NoBoajCVJPXKAUiSJMnMVJLULwcgSZLU0gBiqcFUktSzAURTg6kkqVcOQJIkSWamkqR+OQBJkqSWBhBLDaaSpJ4NIJr6zFSSpJbMTCVJvRrCaF6DqSSpVw5AkiSppQHEUoOpJKlfQ8hMHYAkSVJLZqaSpJ6Nf2pqMJUk9WoI3bwGU0lSrwYQSw2mkqR+DSEzdQCSJEktmZlKknrlDEiSJLU1/rHUYCpJ6tcAYqnPTCVJasvMVJLUqyGM5jWYSpJ65QAkSZLaGv9YajCVJPVrALHUAUiSJLVlZipJ6pUDkCRJaskBSJIktTSEzNRnppIktWQwlSSpJbt5JUm9GkI3r8FUktQrByBJktTSEDJTn5lKktSSmakkqVcDSEwNppKkng0gmhpMJUm9cgCSJEktOQBJkiSZmUqS+jWAxNRgKknq2QCiqcFUktSrIQxA8pmpJEktmZlKkno1hNG8qaq+26CeJDmwqo7uux1SW/5dVt/s5l3cDuy7AdI88e+yemUwlSSpJYOpJEktGUwXN58xaSj8u6xeOQBJkqSWzEwlSWrJYDomklSSd0/aPyzJX6/iO3sl2XmG469KclGSC5Ocl+Swpvyfk+zTfP74Kq7x1xPfk+Zbkvsl+XySHyc5J8lXkzwkyUXN8ccl+cAqrnHrmmmtFjOD6fi4E9g7yRar8Z29gGkDYZLnAG8EnlVVjwB2A26ael5Vvbaqvr/arZVaShLgy8AZVbVDVT0WOBzYeuKcqjq7ql7fVxulCQbT8XE3o0EWb5p6IMl2Sb6R5IIkpyfZNskTgRcC/5Dk/CQ7TPna4cBhVXUlQFXdWVUfm+baZyR5XPP52UnOTfK9JKdPc+4fJfm3JOu1v12JpwErquqjEwVV9T3g5xP7SXZP8pXm84ZJPtX0tFyQ5MWTL5ZkiyT/neR5a+oGtHg4neB4+RBwQZJ3TSn/v8AxVXVMktcAH6iqvZKcBHylqr40zbUeDpwz24qTbAl8DHhKVf00yWZTjh8MPBPYq6ruXI17klZmtf6OAn8F3NT0tJBk04kDSbYGTgKOqKrT5rWVEgbTsVJVNyc5Fng9cPukQ08A9m4+fxqYGmznw27Af1TVT5u2XD/p2KsYZQt7VdWKDuqWZuMZwMsmdqrqhubjOsDpwEFV9a0+Gqbhs5t3/LwPOADYoOV1LgYe27o1IxcC2wEPmKfrSTB/f0fvZpTh/v48XEualsF0zDQZ4RcZBdQJ/8WvfyPfF/jP5vMtwNKVXOodjJ6n3g8gybpJXjtD1f8DPCXJ9s35k7t5zwP+GDgpyW+txu1IM/kGcJ8k98y7m+SRwANXcv5pwEGTzp3o5i3gNcBDk7ylo7ZqkTOYjqd3A5NH9b4O2D/JBcArgTc05Z8H/rx57eVeA5Cq6qvAB4F/T3IxcC6w0coqrKprGE0mfkKS7wFfmHL828BhwCmrOeJYmlaNZpR5EfCM5tWYixn9EnjVSr7yN8Cmzete32M0gGniWr8E/hB4epI/67jpWoScAUmSpJbMTCVJaslgKklSSwZTSZJaMphKktSSwVSSpJYMphqMJL9s5iG+KMlxSdZvca3VWTln92Yu5NWt4/9N9xrRyspXco1XJ/ngfNQrae4MphqS26vq0VX1cOAu4E8mH0wyp+kzZ7Fyzu7AagdTScNhMNVQ/Sfw4CZr/M9m0v/vJ1kryT8k+W6zssgfw2i5ryQfTPLDJP8ObDVxoZlWzkmyHaOg/aYmK35yki2THN/U8d0kT2q+u3mSrye5OMnHgcz2ZpI8vlnx5Lwk/5Vkp0mHH9i08UdJjpr0nVckOatp1z8lWWvuf5ySZuJE9xqcJgN9DvC1pmgX4OHNajcHMlpZ5HeT3Af4TpKvA48BdmK0/uvWwPeBT0657m+snFNV1yf5KHBrVf1jc96/AO+tqm8n2RY4Ffgd4Cjg21X1tmYZsMlTQq7KD4AnV9XdSZ4B/B0wscTY4xmtsHIb8N0kpwDLgZcCT6qqFUk+zGiqyWNXo05Js2Qw1ZCsl+T85vN/Ap9g1P161sRqN8CzgEdOPA8FNgZ2BJ4CfK6Zdu7KJN+Y5vozrZwz2TOAnZN7Es+NkmzY1LF3891Tktywku9PZ2PgmCQ7Mpprdp1Jx06rqusAkpwA/B6jyd0fyyi4AqwHXL0a9UlaDQZTDcntVfXoyQVNIFk+uQh4XVWdOuW8585jO5YAu1XVHdO0Za7eDnyzql7UdC2fMenY1DlBi9F9HlNVh7epVNLs+MxUi82pwJ8mWQcgyUOSbAD8B/DS5pnqNkyaJH2Sla2cM3V1nq8zWnyA5rxHNx//A3h5U/YcYFNmb2Pgiubzq6cce2aSzZKsB+wFfIfR+p37JNlqoq1Jfns16pO0GgymWmw+zuh56LlJLgL+iVEPzZeBHzXHjgX+e+oXZ1g552TgRRMDkBgt3v64ZoDT9/n1qOK3MgrGFzPq7v3ZDO28IMnlzfYeRgu+vyPJefxmj9JZwPHABcDxVXV2M/r4CODrGa0mdBqwzSz/jCStJleNkSSpJTNTSZJaMphKktSSwVSSpJYMppIktWQwlSSpJYOpJEktGUwlSWrJYCpJUkv/H3qoZs+IlBi+AAAAAElFTkSuQmCC\n",
       "datasetInfos": [],
       "metadata": {},
       "removedWidgets": [],
       "type": "image"
      }
     },
     "output_type": "display_data"
    }
   ],
   "source": [
    "\n",
    "from sklearn.metrics import confusion_matrix\n",
    "import seaborn as sns\n",
    "# # Assuming you already have 'train_preprocessed' and 'test_preprocessed' datasets\n",
    "\n",
    "# # Prepare data by assembling features\n",
    "# assembler = VectorAssembler(inputCols=feature_columns, outputCol='features')\n",
    "# train_features = assembler.transform(train_preprocessed)\n",
    "# test_features = assembler.transform(test_preprocessed)\n",
    "\n",
    "# # Train Random Forest Model\n",
    "# rf_classifier = RandomForestClassifier(labelCol=\"click\", featuresCol=\"features\")\n",
    "# rf_model = rf_classifier.fit(train_features)\n",
    "# rf_predictions = rf_model.transform(test_features)\n",
    "\n",
    "# # Evaluate AUC using BinaryClassificationEvaluator\n",
    "# rf_evaluator = BinaryClassificationEvaluator(labelCol=\"click\")\n",
    "# rf_auc = rf_evaluator.evaluate(rf_predictions)\n",
    "# print(\"Random Forest AUC:\", rf_auc)\n",
    "\n",
    "# Calculate precision, recall, and F1 manually\n",
    "# Extract the prediction and actual labels\n",
    "predictions_and_labels = rf_predictions.select(\"prediction\", \"click\")\n",
    "\n",
    "# Convert to pandas to calculate confusion matrix\n",
    "predictions_and_labels_pd = predictions_and_labels.toPandas()\n",
    "\n",
    "# Compute confusion matrix\n",
    "cm = confusion_matrix(predictions_and_labels_pd['click'], predictions_and_labels_pd['prediction'])\n",
    "tn, fp, fn, tp = cm.ravel()\n",
    "\n",
    "# Calculate precision, recall, and F1-score\n",
    "precision = tp / (tp + fp) if (tp + fp) != 0 else 0\n",
    "recall = tp / (tp + fn) if (tp + fn) != 0 else 0\n",
    "f1 = 2 * (precision * recall) / (precision + recall) if (precision + recall) != 0 else 0\n",
    "\n",
    "print(f\"Precision: {precision}\")\n",
    "print(f\"Recall: {recall}\")\n",
    "print(f\"F1-Score: {f1}\")\n",
    "\n",
    "# Plot confusion matrix\n",
    "plt.figure(figsize=(8, 6))\n",
    "sns.heatmap(cm, annot=True, cmap=\"Blues\", fmt=\"d\", xticklabels=[\"Not Click\", \"Click\"], yticklabels=[\"Not Click\", \"Click\"])\n",
    "plt.xlabel(\"Predicted Label\")\n",
    "plt.ylabel(\"True Label\")\n",
    "plt.title(\"Confusion Matrix\")\n",
    "plt.show()\n"
   ]
  },
  {
   "cell_type": "code",
   "execution_count": 0,
   "metadata": {
    "application/vnd.databricks.v1+cell": {
     "cellMetadata": {
      "byteLimit": 2048000,
      "rowLimit": 10000
     },
     "inputWidgets": {},
     "nuid": "ababa4dc-0864-4e0e-9f76-0241a625b885",
     "showTitle": false,
     "tableResultSettingsMap": {},
     "title": ""
    }
   },
   "outputs": [],
   "source": [
    "# train new model with filling random age\n",
    "train2, test2 = cleaned_data.randomSplit([0.8, 0.2],seed=123)\n",
    "\n",
    "#impute continuous columns that still have null value: age, gender, device type, browsing history, timeofday\n",
    "\n",
    "# Calculate distributions for each categorical column\n",
    "age_dist = calculate_distribution(train2, \"age\")\n",
    "gender_dist = calculate_distribution(train2, \"gender\")\n",
    "device_type_dist = calculate_distribution(train2, \"device_type\")\n",
    "browsing_history_dist = calculate_distribution(train2, \"browsing_history\")\n",
    "time_of_day_dist = calculate_distribution(train2, \"time_of_day\")\n",
    "\n",
    "# Fill missing values based on distributions\n",
    "train2 = random_assign_missing(train2, \"gender\", gender_dist)\n",
    "train2 = random_assign_missing(train2, \"gender\", gender_dist)\n",
    "train2 = random_assign_missing(train2, \"device_type\", device_type_dist)\n",
    "train2 = random_assign_missing(train2, \"browsing_history\", browsing_history_dist)\n",
    "train2 = random_assign_missing(train2, \"time_of_day\", time_of_day_dist)"
   ]
  },
  {
   "cell_type": "code",
   "execution_count": 0,
   "metadata": {
    "application/vnd.databricks.v1+cell": {
     "cellMetadata": {
      "byteLimit": 2048000,
      "rowLimit": 10000
     },
     "inputWidgets": {},
     "nuid": "50dcd19b-54f7-4762-91c3-92c738358b40",
     "showTitle": false,
     "tableResultSettingsMap": {},
     "title": ""
    }
   },
   "outputs": [],
   "source": [
    "test2 = test2.na.drop()  # Drop rows with any null values"
   ]
  },
  {
   "cell_type": "code",
   "execution_count": 0,
   "metadata": {
    "application/vnd.databricks.v1+cell": {
     "cellMetadata": {
      "byteLimit": 2048000,
      "rowLimit": 10000
     },
     "inputWidgets": {},
     "nuid": "3ce2f2c9-2092-4ebc-9018-d05e6e6d93cb",
     "showTitle": false,
     "tableResultSettingsMap": {},
     "title": ""
    }
   },
   "outputs": [
    {
     "output_type": "stream",
     "name": "stdout",
     "output_type": "stream",
     "text": [
      "root\n |-- age: integer (nullable = true)\n |-- gender: string (nullable = true)\n |-- device_type: string (nullable = true)\n |-- ad_position: integer (nullable = true)\n |-- browsing_history: string (nullable = true)\n |-- time_of_day: string (nullable = true)\n |-- click: integer (nullable = true)\n\n"
     ]
    }
   ],
   "source": [
    "train2.printSchema()"
   ]
  },
  {
   "cell_type": "code",
   "execution_count": 0,
   "metadata": {
    "application/vnd.databricks.v1+cell": {
     "cellMetadata": {
      "byteLimit": 2048000,
      "rowLimit": 10000
     },
     "inputWidgets": {},
     "nuid": "19d3a34f-9318-40cc-8aec-9946984438b6",
     "showTitle": false,
     "tableResultSettingsMap": {},
     "title": ""
    }
   },
   "outputs": [],
   "source": [
    "categorical_columns = [\"gender\", \"device_type\", \"browsing_history\", \"time_of_day\"]\n",
    "for column in categorical_columns:\n",
    "    train2_int = train2.withColumn(column, col(column).cast(\"int\"))"
   ]
  },
  {
   "cell_type": "code",
   "execution_count": 0,
   "metadata": {
    "application/vnd.databricks.v1+cell": {
     "cellMetadata": {
      "byteLimit": 2048000,
      "rowLimit": 10000
     },
     "inputWidgets": {},
     "nuid": "d2d85826-3779-4f20-8872-82c058973b19",
     "showTitle": false,
     "tableResultSettingsMap": {},
     "title": ""
    }
   },
   "outputs": [],
   "source": [
    "# Drop existing indexed columns if they already exist\n",
    "columns_to_drop = ['gender_indexed', 'device_type_indexed', 'browsing_history_indexed', 'time_of_day_indexed']\n",
    "train2 = train2.drop(*[col for col in columns_to_drop if col in train2.columns])\n",
    "test2 = test2.drop(*[col for col in columns_to_drop if col in test2.columns])\n",
    "\n",
    "# Define StringIndexer for categorical columns\n",
    "gender_indexer = StringIndexer(inputCol='gender', outputCol='gender_indexed')\n",
    "device_type_indexer = StringIndexer(inputCol='device_type', outputCol='device_type_indexed')\n",
    "browsing_history_indexer = StringIndexer(inputCol='browsing_history', outputCol='browsing_history_indexed')\n",
    "time_of_day_indexer = StringIndexer(inputCol='time_of_day', outputCol='time_of_day_indexed')\n",
    "\n",
    "# Assemble indexed columns into features\n",
    "feature_columns = ['gender_indexed', 'device_type_indexed', 'ad_position', 'browsing_history_indexed', 'time_of_day_indexed']\n",
    "assembler = VectorAssembler(inputCols=feature_columns, outputCol='features')\n",
    "\n",
    "# Create and apply the pipeline\n",
    "pipeline = Pipeline(stages=[gender_indexer, device_type_indexer, browsing_history_indexer, time_of_day_indexer, assembler])\n",
    "pipeline_model = pipeline.fit(train2)\n",
    "train2_transformed = pipeline_model.transform(train2)\n",
    "test2_transformed = pipeline_model.transform(test2)\n"
   ]
  },
  {
   "cell_type": "code",
   "execution_count": 0,
   "metadata": {
    "application/vnd.databricks.v1+cell": {
     "cellMetadata": {
      "byteLimit": 2048000,
      "rowLimit": 10000
     },
     "inputWidgets": {},
     "nuid": "28f5fd32-52af-4932-bcc3-da9a34faf795",
     "showTitle": false,
     "tableResultSettingsMap": {},
     "title": ""
    }
   },
   "outputs": [],
   "source": [
    "#from now on, train data is train2_int, and test data is test2 as new version random assign age import data for models\n",
    "\n",
    "from pyspark.ml.feature import StringIndexer, VectorAssembler\n",
    "from pyspark.ml import Pipeline\n",
    "\n",
    "stages = []\n",
    "\n",
    "# Check and add indexers only if the column does not exist\n",
    "if 'gender_indexed' not in train2.columns:\n",
    "    stages.append(StringIndexer(inputCol='gender', outputCol='gender_indexed'))\n",
    "if 'device_type_indexed' not in train2.columns:\n",
    "    stages.append(StringIndexer(inputCol='device_type', outputCol='device_type_indexed'))\n",
    "if 'browsing_history_indexed' not in train2.columns:\n",
    "    stages.append(StringIndexer(inputCol='browsing_history', outputCol='browsing_history_indexed'))\n",
    "if 'time_of_day_indexed' not in train2.columns:\n",
    "    stages.append(StringIndexer(inputCol='time_of_day', outputCol='time_of_day_indexed'))\n",
    "\n",
    "# Assemble indexed columns into features\n",
    "feature_columns = ['gender_indexed', 'device_type_indexed', 'ad_position', 'browsing_history_indexed', 'time_of_day_indexed']\n",
    "assembler = VectorAssembler(inputCols=feature_columns, outputCol='features')\n",
    "stages.append(assembler)\n",
    "\n",
    "# Apply the pipeline only with the necessary stages\n",
    "pipeline = Pipeline(stages=stages)\n",
    "pipeline_model = pipeline.fit(train2)\n",
    "train2_transformed = pipeline_model.transform(train2)\n",
    "test2_transformed = pipeline_model.transform(test2)\n"
   ]
  },
  {
   "cell_type": "code",
   "execution_count": 0,
   "metadata": {
    "application/vnd.databricks.v1+cell": {
     "cellMetadata": {
      "byteLimit": 2048000,
      "rowLimit": 10000
     },
     "inputWidgets": {},
     "nuid": "073e643a-b524-412e-82c1-bcaf0e4054fa",
     "showTitle": false,
     "tableResultSettingsMap": {},
     "title": ""
    }
   },
   "outputs": [
    {
     "output_type": "stream",
     "name": "stdout",
     "output_type": "stream",
     "text": [
      "Random Forest AUC: 0.5578606442577032\n"
     ]
    }
   ],
   "source": [
    "# Train the Random Forest Model\n",
    "rf_classifier2 = RandomForestClassifier(labelCol=\"click\", featuresCol=\"features\")\n",
    "rf_model2 = rf_classifier2.fit(train2_transformed)\n",
    "rf_predictions2 = rf_model2.transform(test2_transformed)\n",
    "\n",
    "# Evaluate the model with AUC\n",
    "from pyspark.ml.evaluation import BinaryClassificationEvaluator\n",
    "rf_evaluator = BinaryClassificationEvaluator(labelCol=\"click\", metricName=\"areaUnderROC\")\n",
    "rf_auc2 = rf_evaluator.evaluate(rf_predictions2)\n",
    "print(\"Random Forest AUC:\", rf_auc2)"
   ]
  },
  {
   "cell_type": "code",
   "execution_count": 0,
   "metadata": {
    "application/vnd.databricks.v1+cell": {
     "cellMetadata": {
      "byteLimit": 2048000,
      "rowLimit": 10000
     },
     "inputWidgets": {},
     "nuid": "995d7dfc-dc42-4274-8bf2-2cc5322d85f1",
     "showTitle": false,
     "tableResultSettingsMap": {},
     "title": ""
    }
   },
   "outputs": [
    {
     "output_type": "stream",
     "name": "stdout",
     "output_type": "stream",
     "text": [
      "Random Forest AUC: 0.5578606442577032\nPrecision: 0.4167601345938151\nRecall: 0.6455696202531646\nF1 Score: 0.5065238558909445\n"
     ]
    }
   ],
   "source": [
    "from pyspark.ml.evaluation import MulticlassClassificationEvaluator\n",
    "\n",
    "# Precision\n",
    "precision_evaluator = MulticlassClassificationEvaluator(\n",
    "    labelCol=\"click\", predictionCol=\"prediction\", metricName=\"weightedPrecision\"\n",
    ")\n",
    "precision = precision_evaluator.evaluate(rf_predictions2)\n",
    "\n",
    "# Recall\n",
    "recall_evaluator = MulticlassClassificationEvaluator(\n",
    "    labelCol=\"click\", predictionCol=\"prediction\", metricName=\"weightedRecall\"\n",
    ")\n",
    "recall = recall_evaluator.evaluate(rf_predictions2)\n",
    "\n",
    "# F1 Score\n",
    "f1_evaluator = MulticlassClassificationEvaluator(\n",
    "    labelCol=\"click\", predictionCol=\"prediction\", metricName=\"f1\"\n",
    ")\n",
    "f1_score = f1_evaluator.evaluate(rf_predictions2)\n",
    "\n",
    "# Print the metrics\n",
    "print(\"Random Forest AUC:\", rf_auc2)\n",
    "print(\"Precision:\", precision)\n",
    "print(\"Recall:\", recall)\n",
    "print(\"F1 Score:\", f1_score)\n"
   ]
  },
  {
   "cell_type": "markdown",
   "metadata": {
    "application/vnd.databricks.v1+cell": {
     "cellMetadata": {
      "byteLimit": 2048000,
      "rowLimit": 10000
     },
     "inputWidgets": {},
     "nuid": "b3e6ca01-cd79-4e1f-8389-13f6da83a280",
     "showTitle": false,
     "tableResultSettingsMap": {},
     "title": ""
    }
   },
   "source": [
    "# check raw data correlation to find out key variable influence click results\n"
   ]
  },
  {
   "cell_type": "code",
   "execution_count": 0,
   "metadata": {
    "application/vnd.databricks.v1+cell": {
     "cellMetadata": {
      "byteLimit": 2048000,
      "rowLimit": 10000
     },
     "inputWidgets": {},
     "nuid": "eea4d709-4ac6-400c-98c2-cfc8bf682483",
     "showTitle": false,
     "tableResultSettingsMap": {},
     "title": ""
    }
   },
   "outputs": [],
   "source": [
    "# correlation for raw data\n",
    "# cleaned_data.display()"
   ]
  },
  {
   "cell_type": "code",
   "execution_count": 0,
   "metadata": {
    "application/vnd.databricks.v1+cell": {
     "cellMetadata": {
      "byteLimit": 2048000,
      "rowLimit": 10000
     },
     "inputWidgets": {},
     "nuid": "e394735a-16bd-42c8-b8d0-17731db6b556",
     "showTitle": false,
     "tableResultSettingsMap": {},
     "title": ""
    }
   },
   "outputs": [],
   "source": [
    "# cleaned_corr = cleaned_data.dropna()"
   ]
  },
  {
   "cell_type": "code",
   "execution_count": 0,
   "metadata": {
    "application/vnd.databricks.v1+cell": {
     "cellMetadata": {
      "byteLimit": 2048000,
      "rowLimit": 10000
     },
     "inputWidgets": {},
     "nuid": "fe7284a9-a0c4-4345-bb19-6b6da03be70c",
     "showTitle": false,
     "tableResultSettingsMap": {},
     "title": ""
    }
   },
   "outputs": [],
   "source": [
    "# cleaned_corr.display()"
   ]
  },
  {
   "cell_type": "code",
   "execution_count": 0,
   "metadata": {
    "application/vnd.databricks.v1+cell": {
     "cellMetadata": {
      "byteLimit": 2048000,
      "rowLimit": 10000
     },
     "inputWidgets": {},
     "nuid": "9f066a4c-2239-4615-973d-65dcb5c98e4d",
     "showTitle": false,
     "tableResultSettingsMap": {},
     "title": ""
    }
   },
   "outputs": [],
   "source": [
    "# from scipy.stats import chi2_contingency\n"
   ]
  },
  {
   "cell_type": "code",
   "execution_count": 0,
   "metadata": {
    "application/vnd.databricks.v1+cell": {
     "cellMetadata": {
      "byteLimit": 2048000,
      "rowLimit": 10000
     },
     "inputWidgets": {},
     "nuid": "d8cd9a2d-1b08-4c0c-917f-4161c254271d",
     "showTitle": false,
     "tableResultSettingsMap": {},
     "title": ""
    }
   },
   "outputs": [],
   "source": [
    "# from pyspark.sql.functions import corr\n",
    "\n",
    "# df.select(corr(\"age\", \"click\")).show()\n"
   ]
  },
  {
   "cell_type": "code",
   "execution_count": 0,
   "metadata": {
    "application/vnd.databricks.v1+cell": {
     "cellMetadata": {
      "byteLimit": 2048000,
      "rowLimit": 10000
     },
     "inputWidgets": {},
     "nuid": "c03397bd-8856-430a-b277-23d1979716f1",
     "showTitle": false,
     "tableResultSettingsMap": {},
     "title": ""
    }
   },
   "outputs": [],
   "source": [
    "# from pyspark.ml.classification import LogisticRegression\n",
    "\n",
    "# # Prepare data\n",
    "# assembler = VectorAssembler(inputCols=[\"age\", \"gender\", \"device_type\", \"ad_position\", \"time_of_day\"], outputCol=\"features\")\n",
    "# df_transformed = assembler.transform(df).select('features', 'click')\n",
    "\n",
    "# # Train model\n",
    "# lr = LogisticRegression(labelCol='click')\n",
    "# model = lr.fit(df_transformed)\n",
    "\n",
    "# # Evaluate\n",
    "# summary = model.summary\n",
    "# summary.roc.show()\n"
   ]
  },
  {
   "cell_type": "code",
   "execution_count": 0,
   "metadata": {
    "application/vnd.databricks.v1+cell": {
     "cellMetadata": {
      "byteLimit": 2048000,
      "rowLimit": 10000
     },
     "inputWidgets": {},
     "nuid": "c18d22f4-3615-4d7c-9fa6-6bef81c5afa3",
     "showTitle": false,
     "tableResultSettingsMap": {},
     "title": ""
    }
   },
   "outputs": [
    {
     "output_type": "stream",
     "name": "stdout",
     "output_type": "stream",
     "text": [
      "2782\n5218\n"
     ]
    }
   ],
   "source": [
    "no_click = cleaned_data.select('click').where(cleaned_data.click == 0).count()\n",
    "yes_click = cleaned_data.select('click').where(cleaned_data.click == 1).count()\n",
    "\n",
    "print(no_click)\n",
    "print(yes_click)\n"
   ]
  }
 ],
 "metadata": {
  "application/vnd.databricks.v1+notebook": {
   "computePreferences": null,
   "dashboards": [],
   "environmentMetadata": null,
   "language": "python",
   "notebookMetadata": {
    "pythonIndentUnit": 4
   },
   "notebookName": "Ad_Click_PySpark_ML",
   "widgets": {}
  },
  "kernelspec": {
   "display_name": "Python 3 (ipykernel)",
   "language": "python",
   "name": "python3"
  },
  "language_info": {
   "codemirror_mode": {
    "name": "ipython",
    "version": 3
   },
   "file_extension": ".py",
   "mimetype": "text/x-python",
   "name": "python",
   "nbconvert_exporter": "python",
   "pygments_lexer": "ipython3",
   "version": "3.13.0"
  }
 },
 "nbformat": 4,
 "nbformat_minor": 0
}
